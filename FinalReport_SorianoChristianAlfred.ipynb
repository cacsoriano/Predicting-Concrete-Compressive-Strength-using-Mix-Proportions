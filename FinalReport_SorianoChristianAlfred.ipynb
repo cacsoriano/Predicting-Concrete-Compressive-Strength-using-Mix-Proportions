{
 "cells": [
  {
   "cell_type": "code",
   "execution_count": 164,
   "id": "46440400",
   "metadata": {
    "ExecuteTime": {
     "end_time": "2021-09-14T14:54:10.755897Z",
     "start_time": "2021-09-14T14:54:10.745943Z"
    }
   },
   "outputs": [
    {
     "data": {
      "text/html": [
       "<script>\n",
       "code_show=true;\n",
       "function code_toggle() {\n",
       " if (code_show){\n",
       " $('div.input').hide();\n",
       " } else {\n",
       " $('div.input').show();\n",
       " }\n",
       " code_show = !code_show\n",
       "}\n",
       "$( document ).ready(code_toggle);\n",
       "</script>\n",
       "<form action=\"javascript:code_toggle()\">\n",
       "<input type=\"submit\" value=\"Click to toggle on/off the raw code.\">\n",
       "</form>"
      ],
      "text/plain": [
       "<IPython.core.display.HTML object>"
      ]
     },
     "execution_count": 164,
     "metadata": {},
     "output_type": "execute_result"
    }
   ],
   "source": [
    "from IPython.display import HTML, Image, display\n",
    "HTML('''<script>\n",
    "code_show=true;\n",
    "function code_toggle() {\n",
    " if (code_show){\n",
    " $('div.input').hide();\n",
    " } else {\n",
    " $('div.input').show();\n",
    " }\n",
    " code_show = !code_show\n",
    "}\n",
    "$( document ).ready(code_toggle);\n",
    "</script>\n",
    "<form action=\"javascript:code_toggle()\">\n",
    "<input type=\"submit\" value=\"Click to toggle on/off the raw code.\">\n",
    "</form>''')"
   ]
  },
  {
   "cell_type": "markdown",
   "id": "d09810ad",
   "metadata": {},
   "source": [
    "# Halo-Halo! Predicting Concrete Compressive Strength using Mix Proportions"
   ]
  },
  {
   "cell_type": "markdown",
   "id": "132118e0",
   "metadata": {},
   "source": [
    "Concrete is the most widely used construction material in the world. This can be attributed to the ubiquity of the four basic materials needed to create it along with its low cost.[1]\n",
    "\n",
    "In this study, we aim to predict concrete compressive strength using the composition mix."
   ]
  },
  {
   "cell_type": "markdown",
   "id": "40be8d4d",
   "metadata": {},
   "source": [
    "## Highlights"
   ]
  },
  {
   "cell_type": "markdown",
   "id": "9ba494c6",
   "metadata": {},
   "source": [
    "1. Concrete compressive strength is non-linear because linear models perform poorly when it is fitted.\n",
    "\n",
    "2. For the full dataset, the best model is Random Forest with an $R^2$ of 0.9205 and `age` as the top predictor.\n",
    "\n",
    "3. For the `age >= 28`, the best model is Random Forest with an $R^2$ of 0.9049 for the full dataset and `wc_ratio` as the top predictor.\n",
    "\n",
    "4. A distinction was made between the inclusion of partially cured concrete due to different use cases.\n",
    "\n",
    "5. Implementation uses `GridSearchCV`, `RepeatedKFold` and `Pipeline` from the scikit-learn library not discussed in class."
   ]
  },
  {
   "cell_type": "markdown",
   "id": "b569502a",
   "metadata": {
    "ExecuteTime": {
     "end_time": "2021-09-14T10:50:53.305262Z",
     "start_time": "2021-09-14T10:50:53.300021Z"
    }
   },
   "source": [
    "## Exploratory Data Analytics"
   ]
  },
  {
   "cell_type": "code",
   "execution_count": 135,
   "id": "de675428",
   "metadata": {
    "ExecuteTime": {
     "end_time": "2021-09-14T12:41:05.719900Z",
     "start_time": "2021-09-14T12:41:05.710494Z"
    }
   },
   "outputs": [],
   "source": [
    "# utility libraries\n",
    "import time\n",
    "import pandas as pd\n",
    "import numpy as np\n",
    "import seaborn as sns\n",
    "import matplotlib.pyplot as plt\n",
    "\n",
    "# scaling\n",
    "from sklearn.preprocessing import StandardScaler\n",
    "\n",
    "# hyperparameter tuning\n",
    "from sklearn.model_selection import GridSearchCV, RepeatedKFold\n",
    "from sklearn.pipeline import Pipeline\n",
    "\n",
    "# regressor models\n",
    "from sklearn.neighbors import KNeighborsRegressor\n",
    "from sklearn.linear_model import Lasso\n",
    "from sklearn.linear_model import Ridge\n",
    "from sklearn.svm import SVR, LinearSVR\n",
    "from sklearn.ensemble import RandomForestRegressor\n",
    "from sklearn.ensemble import GradientBoostingRegressor"
   ]
  },
  {
   "cell_type": "code",
   "execution_count": 67,
   "id": "32d6dd98",
   "metadata": {
    "ExecuteTime": {
     "end_time": "2021-09-14T10:40:42.813286Z",
     "start_time": "2021-09-14T10:40:42.807895Z"
    }
   },
   "outputs": [],
   "source": [
    "plt.rcParams[\"figure.figsize\"] = (15,6)"
   ]
  },
  {
   "cell_type": "markdown",
   "id": "87a14594",
   "metadata": {},
   "source": [
    "### Load Data"
   ]
  },
  {
   "cell_type": "markdown",
   "id": "22f126d9",
   "metadata": {},
   "source": [
    "The public dataset is from Prof. I-Cheng Yeh. In 1998, he conducted a study on this concrete compressive strength using  artifical neural networks.[3] The dataset is also readily accessible on the UCI Machine Learning Repository: http://archive.ics.uci.edu/ml/datasets/concrete+compressive+strength.\n",
    "\n",
    "The following are the variables in the dataset:\n",
    "\n",
    "| Variable | Description | Units |\n",
    "| --- | --- | --- |\n",
    "| Cement | concrete binder | kg/m<sup>3 |\n",
    "| Blast Furnace Slag | by-product from iron production | kg/m<sup>3 |\n",
    "| Fly Ash | fine residue from combustion of pulverized coal | kg/m<sup>3 |\n",
    "| Water | water added to concrete mix | kg/m<sup>3 |\n",
    "| Superplasticizer | additive in high strength concrete | kg/m<sup>3 |\n",
    "| Coarse Aggregate | gravel or crushed stone greater than 3/8-inch diameter | kg/m<sup>3 |\n",
    "| Fine Aggregate | sand or crushed stone of 3/8-inch diameter | kg/m<sup>3 |\n",
    "| Age | number of days of curing upon testing | days |\n",
    "| Compressive Strength | Concrete compressive strength | csMPa |"
   ]
  },
  {
   "cell_type": "markdown",
   "id": "dd6dfbe4",
   "metadata": {},
   "source": [
    "Concrete Compressive Strength is continuous so we will use regression. The main ingredients of concrete are `cement`, `water`, `coarse aggregates`, and `fine aggregates`.\n",
    "\n",
    "`blast furnace slae`, `fly ash` and `superplasticizer` are known as admixtures. They add to properties of concrete.\n",
    "\n",
    "`age` is the number of days of curing upon testing. This is an important factor because concrete only reaches full compressive strength at 28 days. That means for less than 28 days we expect concrete it to have lower amount of compressive strength and higher variability due to possible addition of admixtures. [2]"
   ]
  },
  {
   "cell_type": "code",
   "execution_count": 114,
   "id": "5e8aa4d1",
   "metadata": {
    "ExecuteTime": {
     "end_time": "2021-09-14T12:07:29.328036Z",
     "start_time": "2021-09-14T12:07:29.316979Z"
    }
   },
   "outputs": [
    {
     "data": {
      "image/png": "[encoded data removed]",
      "text/plain": [
       "<IPython.core.display.Image object>"
      ]
     },
     "execution_count": 114,
     "metadata": {},
     "output_type": "execute_result"
    }
   ],
   "source": [
    "Image('effect-of-age-on-strength.png')"
   ]
  },
  {
   "cell_type": "code",
   "execution_count": 119,
   "id": "62118b9a",
   "metadata": {
    "ExecuteTime": {
     "end_time": "2021-09-14T12:12:52.648611Z",
     "start_time": "2021-09-14T12:12:52.619054Z"
    }
   },
   "outputs": [
    {
     "data": {
      "text/html": [
       "<div>\n",
       "<style scoped>\n",
       "    .dataframe tbody tr th:only-of-type {\n",
       "        vertical-align: middle;\n",
       "    }\n",
       "\n",
       "    .dataframe tbody tr th {\n",
       "        vertical-align: top;\n",
       "    }\n",
       "\n",
       "    .dataframe thead th {\n",
       "        text-align: right;\n",
       "    }\n",
       "</style>\n",
       "<table border=\"1\" class=\"dataframe\">\n",
       "  <thead>\n",
       "    <tr style=\"text-align: right;\">\n",
       "      <th></th>\n",
       "      <th>cement</th>\n",
       "      <th>slag</th>\n",
       "      <th>flyash</th>\n",
       "      <th>water</th>\n",
       "      <th>superplasticizer</th>\n",
       "      <th>coarseaggregate</th>\n",
       "      <th>fineaggregate</th>\n",
       "      <th>age</th>\n",
       "      <th>csMPa</th>\n",
       "    </tr>\n",
       "  </thead>\n",
       "  <tbody>\n",
       "    <tr>\n",
       "      <th>0</th>\n",
       "      <td>540.0</td>\n",
       "      <td>0.0</td>\n",
       "      <td>0.0</td>\n",
       "      <td>162.0</td>\n",
       "      <td>2.5</td>\n",
       "      <td>1040.0</td>\n",
       "      <td>676.0</td>\n",
       "      <td>28</td>\n",
       "      <td>79.99</td>\n",
       "    </tr>\n",
       "    <tr>\n",
       "      <th>1</th>\n",
       "      <td>540.0</td>\n",
       "      <td>0.0</td>\n",
       "      <td>0.0</td>\n",
       "      <td>162.0</td>\n",
       "      <td>2.5</td>\n",
       "      <td>1055.0</td>\n",
       "      <td>676.0</td>\n",
       "      <td>28</td>\n",
       "      <td>61.89</td>\n",
       "    </tr>\n",
       "    <tr>\n",
       "      <th>2</th>\n",
       "      <td>332.5</td>\n",
       "      <td>142.5</td>\n",
       "      <td>0.0</td>\n",
       "      <td>228.0</td>\n",
       "      <td>0.0</td>\n",
       "      <td>932.0</td>\n",
       "      <td>594.0</td>\n",
       "      <td>270</td>\n",
       "      <td>40.27</td>\n",
       "    </tr>\n",
       "    <tr>\n",
       "      <th>3</th>\n",
       "      <td>332.5</td>\n",
       "      <td>142.5</td>\n",
       "      <td>0.0</td>\n",
       "      <td>228.0</td>\n",
       "      <td>0.0</td>\n",
       "      <td>932.0</td>\n",
       "      <td>594.0</td>\n",
       "      <td>365</td>\n",
       "      <td>41.05</td>\n",
       "    </tr>\n",
       "    <tr>\n",
       "      <th>4</th>\n",
       "      <td>198.6</td>\n",
       "      <td>132.4</td>\n",
       "      <td>0.0</td>\n",
       "      <td>192.0</td>\n",
       "      <td>0.0</td>\n",
       "      <td>978.4</td>\n",
       "      <td>825.5</td>\n",
       "      <td>360</td>\n",
       "      <td>44.30</td>\n",
       "    </tr>\n",
       "  </tbody>\n",
       "</table>\n",
       "</div>"
      ],
      "text/plain": [
       "   cement   slag  flyash  water  superplasticizer  coarseaggregate  \\\n",
       "0   540.0    0.0     0.0  162.0               2.5           1040.0   \n",
       "1   540.0    0.0     0.0  162.0               2.5           1055.0   \n",
       "2   332.5  142.5     0.0  228.0               0.0            932.0   \n",
       "3   332.5  142.5     0.0  228.0               0.0            932.0   \n",
       "4   198.6  132.4     0.0  192.0               0.0            978.4   \n",
       "\n",
       "   fineaggregate  age  csMPa  \n",
       "0          676.0   28  79.99  \n",
       "1          676.0   28  61.89  \n",
       "2          594.0  270  40.27  \n",
       "3          594.0  365  41.05  \n",
       "4          825.5  360  44.30  "
      ]
     },
     "metadata": {},
     "output_type": "display_data"
    }
   ],
   "source": [
    "# load the dataset\n",
    "data = pd.read_csv('Concrete_Data_Yeh.csv')\n",
    "display(data.head())"
   ]
  },
  {
   "cell_type": "code",
   "execution_count": 97,
   "id": "a52f2084",
   "metadata": {
    "ExecuteTime": {
     "end_time": "2021-09-14T11:39:34.190888Z",
     "start_time": "2021-09-14T11:39:34.180703Z"
    }
   },
   "outputs": [
    {
     "data": {
      "text/plain": [
       "cement              float64\n",
       "slag                float64\n",
       "flyash              float64\n",
       "water               float64\n",
       "superplasticizer    float64\n",
       "coarseaggregate     float64\n",
       "fineaggregate       float64\n",
       "age                   int64\n",
       "csMPa               float64\n",
       "dtype: object"
      ]
     },
     "metadata": {},
     "output_type": "display_data"
    }
   ],
   "source": [
    "# check dtypes for any categorical variables\n",
    "display(data.dtypes)"
   ]
  },
  {
   "cell_type": "markdown",
   "id": "75b18678",
   "metadata": {},
   "source": [
    "There are no categorical variables thus one hot encoding or oridnal-value encoding is not needed."
   ]
  },
  {
   "cell_type": "code",
   "execution_count": 99,
   "id": "948cb35b",
   "metadata": {
    "ExecuteTime": {
     "end_time": "2021-09-14T11:40:11.622437Z",
     "start_time": "2021-09-14T11:40:11.609802Z"
    }
   },
   "outputs": [
    {
     "data": {
      "text/plain": [
       "cement              0\n",
       "slag                0\n",
       "flyash              0\n",
       "water               0\n",
       "superplasticizer    0\n",
       "coarseaggregate     0\n",
       "fineaggregate       0\n",
       "age                 0\n",
       "csMPa               0\n",
       "dtype: int64"
      ]
     },
     "metadata": {},
     "output_type": "display_data"
    }
   ],
   "source": [
    "# checking for any null values\n",
    "display(data.isnull().sum())"
   ]
  },
  {
   "cell_type": "markdown",
   "id": "3defbb72",
   "metadata": {},
   "source": [
    "There is also no null values. There is no need to impute or delete rows. This dataset is relatively clean."
   ]
  },
  {
   "cell_type": "code",
   "execution_count": 101,
   "id": "7927fbb0",
   "metadata": {
    "ExecuteTime": {
     "end_time": "2021-09-14T11:42:04.942458Z",
     "start_time": "2021-09-14T11:42:04.895571Z"
    }
   },
   "outputs": [
    {
     "data": {
      "text/html": [
       "<div>\n",
       "<style scoped>\n",
       "    .dataframe tbody tr th:only-of-type {\n",
       "        vertical-align: middle;\n",
       "    }\n",
       "\n",
       "    .dataframe tbody tr th {\n",
       "        vertical-align: top;\n",
       "    }\n",
       "\n",
       "    .dataframe thead th {\n",
       "        text-align: right;\n",
       "    }\n",
       "</style>\n",
       "<table border=\"1\" class=\"dataframe\">\n",
       "  <thead>\n",
       "    <tr style=\"text-align: right;\">\n",
       "      <th></th>\n",
       "      <th>cement</th>\n",
       "      <th>slag</th>\n",
       "      <th>flyash</th>\n",
       "      <th>water</th>\n",
       "      <th>superplasticizer</th>\n",
       "      <th>coarseaggregate</th>\n",
       "      <th>fineaggregate</th>\n",
       "      <th>age</th>\n",
       "      <th>csMPa</th>\n",
       "    </tr>\n",
       "  </thead>\n",
       "  <tbody>\n",
       "    <tr>\n",
       "      <th>count</th>\n",
       "      <td>1030.000000</td>\n",
       "      <td>1030.000000</td>\n",
       "      <td>1030.000000</td>\n",
       "      <td>1030.000000</td>\n",
       "      <td>1030.000000</td>\n",
       "      <td>1030.000000</td>\n",
       "      <td>1030.000000</td>\n",
       "      <td>1030.000000</td>\n",
       "      <td>1030.000000</td>\n",
       "    </tr>\n",
       "    <tr>\n",
       "      <th>mean</th>\n",
       "      <td>281.167864</td>\n",
       "      <td>73.895825</td>\n",
       "      <td>54.188350</td>\n",
       "      <td>181.567282</td>\n",
       "      <td>6.204660</td>\n",
       "      <td>972.918932</td>\n",
       "      <td>773.580485</td>\n",
       "      <td>45.662136</td>\n",
       "      <td>35.817961</td>\n",
       "    </tr>\n",
       "    <tr>\n",
       "      <th>std</th>\n",
       "      <td>104.506364</td>\n",
       "      <td>86.279342</td>\n",
       "      <td>63.997004</td>\n",
       "      <td>21.354219</td>\n",
       "      <td>5.973841</td>\n",
       "      <td>77.753954</td>\n",
       "      <td>80.175980</td>\n",
       "      <td>63.169912</td>\n",
       "      <td>16.705742</td>\n",
       "    </tr>\n",
       "    <tr>\n",
       "      <th>min</th>\n",
       "      <td>102.000000</td>\n",
       "      <td>0.000000</td>\n",
       "      <td>0.000000</td>\n",
       "      <td>121.800000</td>\n",
       "      <td>0.000000</td>\n",
       "      <td>801.000000</td>\n",
       "      <td>594.000000</td>\n",
       "      <td>1.000000</td>\n",
       "      <td>2.330000</td>\n",
       "    </tr>\n",
       "    <tr>\n",
       "      <th>25%</th>\n",
       "      <td>192.375000</td>\n",
       "      <td>0.000000</td>\n",
       "      <td>0.000000</td>\n",
       "      <td>164.900000</td>\n",
       "      <td>0.000000</td>\n",
       "      <td>932.000000</td>\n",
       "      <td>730.950000</td>\n",
       "      <td>7.000000</td>\n",
       "      <td>23.710000</td>\n",
       "    </tr>\n",
       "    <tr>\n",
       "      <th>50%</th>\n",
       "      <td>272.900000</td>\n",
       "      <td>22.000000</td>\n",
       "      <td>0.000000</td>\n",
       "      <td>185.000000</td>\n",
       "      <td>6.400000</td>\n",
       "      <td>968.000000</td>\n",
       "      <td>779.500000</td>\n",
       "      <td>28.000000</td>\n",
       "      <td>34.445000</td>\n",
       "    </tr>\n",
       "    <tr>\n",
       "      <th>75%</th>\n",
       "      <td>350.000000</td>\n",
       "      <td>142.950000</td>\n",
       "      <td>118.300000</td>\n",
       "      <td>192.000000</td>\n",
       "      <td>10.200000</td>\n",
       "      <td>1029.400000</td>\n",
       "      <td>824.000000</td>\n",
       "      <td>56.000000</td>\n",
       "      <td>46.135000</td>\n",
       "    </tr>\n",
       "    <tr>\n",
       "      <th>max</th>\n",
       "      <td>540.000000</td>\n",
       "      <td>359.400000</td>\n",
       "      <td>200.100000</td>\n",
       "      <td>247.000000</td>\n",
       "      <td>32.200000</td>\n",
       "      <td>1145.000000</td>\n",
       "      <td>992.600000</td>\n",
       "      <td>365.000000</td>\n",
       "      <td>82.600000</td>\n",
       "    </tr>\n",
       "  </tbody>\n",
       "</table>\n",
       "</div>"
      ],
      "text/plain": [
       "            cement         slag       flyash        water  superplasticizer  \\\n",
       "count  1030.000000  1030.000000  1030.000000  1030.000000       1030.000000   \n",
       "mean    281.167864    73.895825    54.188350   181.567282          6.204660   \n",
       "std     104.506364    86.279342    63.997004    21.354219          5.973841   \n",
       "min     102.000000     0.000000     0.000000   121.800000          0.000000   \n",
       "25%     192.375000     0.000000     0.000000   164.900000          0.000000   \n",
       "50%     272.900000    22.000000     0.000000   185.000000          6.400000   \n",
       "75%     350.000000   142.950000   118.300000   192.000000         10.200000   \n",
       "max     540.000000   359.400000   200.100000   247.000000         32.200000   \n",
       "\n",
       "       coarseaggregate  fineaggregate          age        csMPa  \n",
       "count      1030.000000    1030.000000  1030.000000  1030.000000  \n",
       "mean        972.918932     773.580485    45.662136    35.817961  \n",
       "std          77.753954      80.175980    63.169912    16.705742  \n",
       "min         801.000000     594.000000     1.000000     2.330000  \n",
       "25%         932.000000     730.950000     7.000000    23.710000  \n",
       "50%         968.000000     779.500000    28.000000    34.445000  \n",
       "75%        1029.400000     824.000000    56.000000    46.135000  \n",
       "max        1145.000000     992.600000   365.000000    82.600000  "
      ]
     },
     "metadata": {},
     "output_type": "display_data"
    }
   ],
   "source": [
    "# checking for any differences in scale\n",
    "display(data.describe())"
   ]
  },
  {
   "cell_type": "markdown",
   "id": "e929a2f2",
   "metadata": {},
   "source": [
    "The units of the values are all in $kg/m^3$ except for age. Values are relatively within scale of each other. Scaling is not required in this case. It is still done anyway and included in the pipeline."
   ]
  },
  {
   "cell_type": "code",
   "execution_count": 109,
   "id": "6ce88ab5",
   "metadata": {
    "ExecuteTime": {
     "end_time": "2021-09-14T12:01:49.473358Z",
     "start_time": "2021-09-14T12:01:49.444177Z"
    },
    "scrolled": true
   },
   "outputs": [
    {
     "data": {
      "text/html": [
       "<div>\n",
       "<style scoped>\n",
       "    .dataframe tbody tr th:only-of-type {\n",
       "        vertical-align: middle;\n",
       "    }\n",
       "\n",
       "    .dataframe tbody tr th {\n",
       "        vertical-align: top;\n",
       "    }\n",
       "\n",
       "    .dataframe thead th {\n",
       "        text-align: right;\n",
       "    }\n",
       "</style>\n",
       "<table border=\"1\" class=\"dataframe\">\n",
       "  <thead>\n",
       "    <tr style=\"text-align: right;\">\n",
       "      <th></th>\n",
       "      <th>cement</th>\n",
       "      <th>slag</th>\n",
       "      <th>flyash</th>\n",
       "      <th>water</th>\n",
       "      <th>superplasticizer</th>\n",
       "      <th>coarseaggregate</th>\n",
       "      <th>fineaggregate</th>\n",
       "      <th>age</th>\n",
       "      <th>csMPa</th>\n",
       "    </tr>\n",
       "    <tr>\n",
       "      <th>age</th>\n",
       "      <th></th>\n",
       "      <th></th>\n",
       "      <th></th>\n",
       "      <th></th>\n",
       "      <th></th>\n",
       "      <th></th>\n",
       "      <th></th>\n",
       "      <th></th>\n",
       "      <th></th>\n",
       "    </tr>\n",
       "  </thead>\n",
       "  <tbody>\n",
       "    <tr>\n",
       "      <th>False</th>\n",
       "      <td>10837.107282</td>\n",
       "      <td>7784.523629</td>\n",
       "      <td>3774.158379</td>\n",
       "      <td>373.270371</td>\n",
       "      <td>39.049291</td>\n",
       "      <td>5347.120894</td>\n",
       "      <td>5991.601305</td>\n",
       "      <td>16.142071</td>\n",
       "      <td>154.037872</td>\n",
       "    </tr>\n",
       "    <tr>\n",
       "      <th>True</th>\n",
       "      <td>10922.789294</td>\n",
       "      <td>7266.744988</td>\n",
       "      <td>4216.741462</td>\n",
       "      <td>488.317850</td>\n",
       "      <td>33.837761</td>\n",
       "      <td>6197.622955</td>\n",
       "      <td>6544.940566</td>\n",
       "      <td>4796.407619</td>\n",
       "      <td>235.713294</td>\n",
       "    </tr>\n",
       "  </tbody>\n",
       "</table>\n",
       "</div>"
      ],
      "text/plain": [
       "             cement         slag       flyash       water  superplasticizer  \\\n",
       "age                                                                           \n",
       "False  10837.107282  7784.523629  3774.158379  373.270371         39.049291   \n",
       "True   10922.789294  7266.744988  4216.741462  488.317850         33.837761   \n",
       "\n",
       "       coarseaggregate  fineaggregate          age       csMPa  \n",
       "age                                                             \n",
       "False      5347.120894    5991.601305    16.142071  154.037872  \n",
       "True       6197.622955    6544.940566  4796.407619  235.713294  "
      ]
     },
     "metadata": {},
     "output_type": "display_data"
    }
   ],
   "source": [
    "# checking variance before and after 28 days.\n",
    "display(data.groupby(data['age'] >= 28).var())"
   ]
  },
  {
   "cell_type": "markdown",
   "id": "3794901c",
   "metadata": {},
   "source": [
    "Variance of some features changes before and after 28 days."
   ]
  },
  {
   "cell_type": "code",
   "execution_count": 57,
   "id": "b7d9beea",
   "metadata": {
    "ExecuteTime": {
     "end_time": "2021-09-13T23:44:39.202853Z",
     "start_time": "2021-09-13T23:44:37.378887Z"
    },
    "scrolled": false
   },
   "outputs": [
    {
     "data": {
      "image/png": "[encoded data removed]",
      "text/plain": [
       "<Figure size 864x864 with 9 Axes>"
      ]
     },
     "metadata": {
      "needs_background": "light"
     },
     "output_type": "display_data"
    }
   ],
   "source": [
    "# distribution of features\n",
    "col_nums = 3\n",
    "row_nums = 3\n",
    "plt.figure(figsize=(12, 12))\n",
    "for i, (k, v) in enumerate(data.items(), 1):\n",
    "    plt.subplot(row_nums, col_nums, i)\n",
    "    p = sns.histplot(data=v, color='#ffdb15')\n",
    "    plt.title(k)\n",
    "plt.tight_layout()\n",
    "plt.show()"
   ]
  },
  {
   "cell_type": "markdown",
   "id": "25ccd345",
   "metadata": {},
   "source": [
    "The distributions look okay to work with, with the exception of age which seems sparse with only a few unique values."
   ]
  },
  {
   "cell_type": "code",
   "execution_count": 62,
   "id": "3743c1c0",
   "metadata": {
    "ExecuteTime": {
     "end_time": "2021-09-13T23:45:41.712003Z",
     "start_time": "2021-09-13T23:45:41.494139Z"
    },
    "scrolled": true
   },
   "outputs": [
    {
     "data": {
      "image/png": "[encoded data removed]",
      "text/plain": [
       "<Figure size 864x432 with 1 Axes>"
      ]
     },
     "metadata": {
      "needs_background": "light"
     },
     "output_type": "display_data"
    }
   ],
   "source": [
    "fig, ax = plt.subplots()\n",
    "sns.histplot(data=data['age'], color='#ffdb15')\n",
    "ax.spines['top'].set_visible(False)\n",
    "ax.spines['right'].set_visible(False)\n",
    "plt.show()"
   ]
  },
  {
   "cell_type": "markdown",
   "id": "bf1eb756",
   "metadata": {},
   "source": [
    "Zooming in, we see the values of `age` only occurs at certain values."
   ]
  },
  {
   "cell_type": "code",
   "execution_count": 56,
   "id": "4dd21d2b",
   "metadata": {
    "ExecuteTime": {
     "end_time": "2021-09-13T23:44:36.783089Z",
     "start_time": "2021-09-13T23:44:36.583878Z"
    }
   },
   "outputs": [
    {
     "data": {
      "image/png": "[encoded data removed]",
      "text/plain": [
       "<Figure size 864x432 with 1 Axes>"
      ]
     },
     "metadata": {
      "needs_background": "light"
     },
     "output_type": "display_data"
    }
   ],
   "source": [
    "plt.rcParams['figure.figsize'] = (12, 6)\n",
    "\n",
    "b2, b1, b0 = np.polyfit(x=data['age'], y=data['csMPa'], deg=2)\n",
    "X = np.arange(0, 351)\n",
    "y = b2*X**2 + b1*X + b0\n",
    "\n",
    "fig, ax = plt.subplots()\n",
    "ax.scatter(x=data['age'], y=data['csMPa'], c='#ffdb15')\n",
    "ax.plot(y, 'k--', alpha=0.5)\n",
    "ax.spines['top'].set_visible(False)\n",
    "ax.spines['right'].set_visible(False)\n",
    "ax.set_ylabel('Concrete Compressive Strength (CMPa)')\n",
    "ax.set_xlabel('Age (days)')\n",
    "plt.show()"
   ]
  },
  {
   "cell_type": "markdown",
   "id": "2c030396",
   "metadata": {},
   "source": [
    "Age and concrete compressive strength are not linear. It seems to follow a parabolic trendline. Compared to the graph above we see that concrete at early values of `age` actually follows an empirical curve. Sometimes before achieving full compressive strength, it is actually modeled as linear."
   ]
  },
  {
   "cell_type": "markdown",
   "id": "9e31ba5c",
   "metadata": {},
   "source": [
    "## Results and Discussions"
   ]
  },
  {
   "cell_type": "markdown",
   "id": "9d648080",
   "metadata": {},
   "source": [
    "### Model Selection"
   ]
  },
  {
   "cell_type": "code",
   "execution_count": 144,
   "id": "96f55796",
   "metadata": {
    "ExecuteTime": {
     "end_time": "2021-09-14T13:32:40.052113Z",
     "start_time": "2021-09-14T13:32:40.042592Z"
    }
   },
   "outputs": [],
   "source": [
    "# assign features and target\n",
    "y_1 = data['csMPa']\n",
    "X_1 = data.drop('csMPa', axis=1)\n",
    "\n",
    "# save feature names\n",
    "feature_names = X_1.columns"
   ]
  },
  {
   "cell_type": "code",
   "execution_count": 125,
   "id": "2ff7ef7d",
   "metadata": {
    "ExecuteTime": {
     "end_time": "2021-09-14T12:20:02.156920Z",
     "start_time": "2021-09-14T12:20:02.145350Z"
    }
   },
   "outputs": [],
   "source": [
    "cols = ['mean_test_score', 'params']\n",
    "res_cols = ['Test Score', 'Best Parameter', 'Top Predictor', 'Time']\n",
    "idx = ['kNN', 'Linear Regression (L1)', 'Linear Regression (L2)',\n",
    "       'LinearSVR', 'Random Forest', 'Gradient Boosting Method']\n",
    "def reg_knn(X, y):\n",
    "    start_time = time.time()\n",
    "    \n",
    "    # hyperparameters\n",
    "    n = range(1, 21)\n",
    "    params = {'knn__n_neighbors': n}\n",
    "    \n",
    "    # cross-validation settings\n",
    "    rkf = RepeatedKFold(n_splits=5, n_repeats=10)\n",
    "\n",
    "    # scaler and model\n",
    "    scaler = ('scaler', StandardScaler())\n",
    "    model = ('knn', KNeighborsRegressor())\n",
    "    pipeline = Pipeline([scaler, model])\n",
    "\n",
    "    # gridsearch\n",
    "    cv = GridSearchCV(estimator=pipeline, param_grid=params, cv=rkf,\n",
    "                      return_train_score=True, scoring='r2').fit(X, y)\n",
    "    res = pd.DataFrame(cv.cv_results_, columns=cols)\n",
    "    res = res.loc[cv.best_index_]\n",
    "    res['Top Predictor'] = None\n",
    "    res['time'] = (time.time() - start_time)\n",
    "    return res.values\n",
    "\n",
    "def reg_linear(model, X, y):\n",
    "    start_time = time.time()\n",
    "\n",
    "    # hyperparameters\n",
    "    alpha_range = [1e-6, 1e-5, 1e-4, 1e-3, 0.10, 0.25, 0.5, 0.75,\n",
    "               1, 1.5, 3, 5, 10, 15, 20, 100, 250, 1000, 5000]\n",
    "    if model[0] == 'LinearSVR':\n",
    "        params = {model[0]+'__C': alpha_range}\n",
    "    else:\n",
    "        params = {model[0]+'__alpha': alpha_range}\n",
    "\n",
    "    # cross-validation settings\n",
    "    rkf = RepeatedKFold(n_splits=5, n_repeats=10)\n",
    "\n",
    "    # scaler\n",
    "    scaler = ('scaler', StandardScaler())\n",
    "    pipeline = Pipeline([scaler, model])\n",
    "\n",
    "    # gridsearch\n",
    "    cv = GridSearchCV(estimator=pipeline, param_grid=params, cv=rkf,\n",
    "                      return_train_score=True, scoring='r2').fit(X, y)\n",
    "    res = pd.DataFrame(cv.cv_results_, columns=cols)\n",
    "    res = res.loc[cv.best_index_]\n",
    "    res['Top Predictor'] = feature_names[(cv.best_estimator_.steps[1][1]\n",
    "                                          .coef_.argmax())]\n",
    "    res['time'] = (time.time() - start_time)\n",
    "    return res.values\n",
    "\n",
    "def reg_tree(model, X, y):\n",
    "    start_time = time.time()\n",
    "\n",
    "    # hyperparameters\n",
    "    features_tuning = [0.1, 0.2, 0.3, 0.4, 0.5, 0.7, 0.8, 0.9, 1.0]\n",
    "    params = {'max_features': features_tuning}\n",
    "\n",
    "    # cross-validation settings\n",
    "    rkf = RepeatedKFold(n_splits=5, n_repeats=10)\n",
    "\n",
    "    # gridsearch\n",
    "    cv = GridSearchCV(estimator=model, param_grid=params, cv=rkf,\n",
    "                      return_train_score=True, scoring='r2').fit(X, y)\n",
    "    res = pd.DataFrame(cv.cv_results_, columns=cols)\n",
    "    res = res.loc[cv.best_index_]\n",
    "    res['Top Predictor'] = feature_names[(cv.best_estimator_.\n",
    "                                          feature_importances_.argmax())]\n",
    "    res['time'] = (time.time() - start_time)\n",
    "    return res.values"
   ]
  },
  {
   "cell_type": "markdown",
   "id": "2d14e2f1",
   "metadata": {},
   "source": [
    "**Attempt 1.**\n",
    "\n",
    "The linear models perform poorly because age is an important nonlinear factor.\n",
    "\n",
    "Standard scaling is applied except in ensemble models. The current set parameters for Repeated K Fold cross validation is `n_splits=5`, `n_repeats=10`. Since regression is used, the test score is set to be $R^2$. The `best_estimator` or the best parameter in the table is determined by `GridSearchCV` as the estimator with combination of parameters with the highest test score.\n",
    "\n",
    "Top predictors for linear models is `cement` and `age` for the ensemble models which perform the best."
   ]
  },
  {
   "cell_type": "code",
   "execution_count": 132,
   "id": "d217323f",
   "metadata": {
    "ExecuteTime": {
     "end_time": "2021-09-14T12:36:35.032714Z",
     "start_time": "2021-09-14T12:32:18.989503Z"
    },
    "scrolled": true
   },
   "outputs": [
    {
     "data": {
      "text/html": [
       "<div>\n",
       "<style scoped>\n",
       "    .dataframe tbody tr th:only-of-type {\n",
       "        vertical-align: middle;\n",
       "    }\n",
       "\n",
       "    .dataframe tbody tr th {\n",
       "        vertical-align: top;\n",
       "    }\n",
       "\n",
       "    .dataframe thead th {\n",
       "        text-align: right;\n",
       "    }\n",
       "</style>\n",
       "<table border=\"1\" class=\"dataframe\">\n",
       "  <thead>\n",
       "    <tr style=\"text-align: right;\">\n",
       "      <th></th>\n",
       "      <th>Test Score</th>\n",
       "      <th>Best Parameter</th>\n",
       "      <th>Top Predictor</th>\n",
       "      <th>Time</th>\n",
       "    </tr>\n",
       "  </thead>\n",
       "  <tbody>\n",
       "    <tr>\n",
       "      <th>kNN</th>\n",
       "      <td>0.718328</td>\n",
       "      <td>{'knn__n_neighbors': 4}</td>\n",
       "      <td>None</td>\n",
       "      <td>18.992944</td>\n",
       "    </tr>\n",
       "    <tr>\n",
       "      <th>Linear Regression (L1)</th>\n",
       "      <td>0.602386</td>\n",
       "      <td>{'L1__alpha': 0.001}</td>\n",
       "      <td>cement</td>\n",
       "      <td>8.375763</td>\n",
       "    </tr>\n",
       "    <tr>\n",
       "      <th>Linear Regression (L2)</th>\n",
       "      <td>0.601064</td>\n",
       "      <td>{'L2__alpha': 1}</td>\n",
       "      <td>cement</td>\n",
       "      <td>8.161961</td>\n",
       "    </tr>\n",
       "    <tr>\n",
       "      <th>LinearSVR</th>\n",
       "      <td>0.581101</td>\n",
       "      <td>{'LinearSVR__C': 0.5}</td>\n",
       "      <td>cement</td>\n",
       "      <td>70.098527</td>\n",
       "    </tr>\n",
       "    <tr>\n",
       "      <th>Random Forest</th>\n",
       "      <td>0.913143</td>\n",
       "      <td>{'max_features': 0.5}</td>\n",
       "      <td>age</td>\n",
       "      <td>113.773968</td>\n",
       "    </tr>\n",
       "    <tr>\n",
       "      <th>Gradient Boosting Method</th>\n",
       "      <td>0.904799</td>\n",
       "      <td>{'max_features': 0.4}</td>\n",
       "      <td>age</td>\n",
       "      <td>36.617184</td>\n",
       "    </tr>\n",
       "  </tbody>\n",
       "</table>\n",
       "</div>"
      ],
      "text/plain": [
       "                          Test Score           Best Parameter Top Predictor  \\\n",
       "kNN                         0.718328  {'knn__n_neighbors': 4}          None   \n",
       "Linear Regression (L1)      0.602386     {'L1__alpha': 0.001}        cement   \n",
       "Linear Regression (L2)      0.601064         {'L2__alpha': 1}        cement   \n",
       "LinearSVR                   0.581101    {'LinearSVR__C': 0.5}        cement   \n",
       "Random Forest               0.913143    {'max_features': 0.5}           age   \n",
       "Gradient Boosting Method    0.904799    {'max_features': 0.4}           age   \n",
       "\n",
       "                                Time  \n",
       "kNN                        18.992944  \n",
       "Linear Regression (L1)      8.375763  \n",
       "Linear Regression (L2)      8.161961  \n",
       "LinearSVR                  70.098527  \n",
       "Random Forest             113.773968  \n",
       "Gradient Boosting Method   36.617184  "
      ]
     },
     "metadata": {},
     "output_type": "display_data"
    }
   ],
   "source": [
    "results_1 = pd.DataFrame([\n",
    "    reg_knn(X_1, y_1),\n",
    "    reg_linear(('L1', Lasso(max_iter=1e7)), X_1, y_1),\n",
    "    reg_linear(('L2', Ridge()), X_1, y_1),\n",
    "    reg_linear(('LinearSVR', LinearSVR(max_iter=1e6)), X_1, y_1),\n",
    "    reg_tree(RandomForestRegressor(), X_1, y_1),\n",
    "    reg_tree(GradientBoostingRegressor(), X_1, y_1),\n",
    "        ], columns=res_cols, index=idx)\n",
    "display(results_1)"
   ]
  },
  {
   "cell_type": "markdown",
   "id": "d240bf8b",
   "metadata": {},
   "source": [
    "**Attempt 2.**\n",
    "It is best to try to run the model _without_ `age` < 28 data."
   ]
  },
  {
   "cell_type": "code",
   "execution_count": 130,
   "id": "a92c63f1",
   "metadata": {
    "ExecuteTime": {
     "end_time": "2021-09-14T12:27:30.186259Z",
     "start_time": "2021-09-14T12:27:30.172996Z"
    }
   },
   "outputs": [],
   "source": [
    "# assign features and target\n",
    "y_2 = data[data.age >= 28]['csMPa']\n",
    "X_2 = data[data.age >= 28].drop('csMPa', axis=1)\n",
    "\n",
    "# save feature names\n",
    "feature_names = X_2.columns"
   ]
  },
  {
   "cell_type": "code",
   "execution_count": 133,
   "id": "70720231",
   "metadata": {
    "ExecuteTime": {
     "end_time": "2021-09-14T12:40:15.107560Z",
     "start_time": "2021-09-14T12:36:35.034906Z"
    }
   },
   "outputs": [
    {
     "data": {
      "text/html": [
       "<div>\n",
       "<style scoped>\n",
       "    .dataframe tbody tr th:only-of-type {\n",
       "        vertical-align: middle;\n",
       "    }\n",
       "\n",
       "    .dataframe tbody tr th {\n",
       "        vertical-align: top;\n",
       "    }\n",
       "\n",
       "    .dataframe thead th {\n",
       "        text-align: right;\n",
       "    }\n",
       "</style>\n",
       "<table border=\"1\" class=\"dataframe\">\n",
       "  <thead>\n",
       "    <tr style=\"text-align: right;\">\n",
       "      <th></th>\n",
       "      <th>Test Score</th>\n",
       "      <th>Best Parameter</th>\n",
       "      <th>Top Predictor</th>\n",
       "      <th>Time</th>\n",
       "    </tr>\n",
       "  </thead>\n",
       "  <tbody>\n",
       "    <tr>\n",
       "      <th>kNN</th>\n",
       "      <td>0.720621</td>\n",
       "      <td>{'knn__n_neighbors': 3}</td>\n",
       "      <td>None</td>\n",
       "      <td>19.135961</td>\n",
       "    </tr>\n",
       "    <tr>\n",
       "      <th>Linear Regression (L1)</th>\n",
       "      <td>0.718178</td>\n",
       "      <td>{'L1__alpha': 0.001}</td>\n",
       "      <td>cement</td>\n",
       "      <td>8.512517</td>\n",
       "    </tr>\n",
       "    <tr>\n",
       "      <th>Linear Regression (L2)</th>\n",
       "      <td>0.717436</td>\n",
       "      <td>{'L2__alpha': 0.25}</td>\n",
       "      <td>cement</td>\n",
       "      <td>8.317084</td>\n",
       "    </tr>\n",
       "    <tr>\n",
       "      <th>LinearSVR</th>\n",
       "      <td>0.698067</td>\n",
       "      <td>{'LinearSVR__C': 5}</td>\n",
       "      <td>cement</td>\n",
       "      <td>59.476540</td>\n",
       "    </tr>\n",
       "    <tr>\n",
       "      <th>Random Forest</th>\n",
       "      <td>0.896206</td>\n",
       "      <td>{'max_features': 0.8}</td>\n",
       "      <td>cement</td>\n",
       "      <td>93.278874</td>\n",
       "    </tr>\n",
       "    <tr>\n",
       "      <th>Gradient Boosting Method</th>\n",
       "      <td>0.891208</td>\n",
       "      <td>{'max_features': 0.8}</td>\n",
       "      <td>cement</td>\n",
       "      <td>31.330868</td>\n",
       "    </tr>\n",
       "  </tbody>\n",
       "</table>\n",
       "</div>"
      ],
      "text/plain": [
       "                          Test Score           Best Parameter Top Predictor  \\\n",
       "kNN                         0.720621  {'knn__n_neighbors': 3}          None   \n",
       "Linear Regression (L1)      0.718178     {'L1__alpha': 0.001}        cement   \n",
       "Linear Regression (L2)      0.717436      {'L2__alpha': 0.25}        cement   \n",
       "LinearSVR                   0.698067      {'LinearSVR__C': 5}        cement   \n",
       "Random Forest               0.896206    {'max_features': 0.8}        cement   \n",
       "Gradient Boosting Method    0.891208    {'max_features': 0.8}        cement   \n",
       "\n",
       "                               Time  \n",
       "kNN                       19.135961  \n",
       "Linear Regression (L1)     8.512517  \n",
       "Linear Regression (L2)     8.317084  \n",
       "LinearSVR                 59.476540  \n",
       "Random Forest             93.278874  \n",
       "Gradient Boosting Method  31.330868  "
      ]
     },
     "metadata": {},
     "output_type": "display_data"
    }
   ],
   "source": [
    "results_2 = pd.DataFrame([\n",
    "    reg_knn(X_2, y_2),\n",
    "    reg_linear(('L1', Lasso(max_iter=1e7)), X_2, y_2),\n",
    "    reg_linear(('L2', Ridge()), X_2, y_2),\n",
    "    reg_linear(('LinearSVR', LinearSVR(max_iter=1e6)), X_2, y_2),\n",
    "    reg_tree(RandomForestRegressor(), X_2, y_2),\n",
    "    reg_tree(GradientBoostingRegressor(), X_2, y_2),\n",
    "        ], columns=res_cols, index=idx)\n",
    "display(results_2)"
   ]
  },
  {
   "cell_type": "markdown",
   "id": "b5ed77c8",
   "metadata": {},
   "source": [
    "We see an improvement for the linear models but reduced score for the ensemble models.\n",
    "\n",
    "`cement` is now the top predictor across all models."
   ]
  },
  {
   "cell_type": "markdown",
   "id": "0683a9ca",
   "metadata": {},
   "source": [
    "### Feature Engineering"
   ]
  },
  {
   "cell_type": "markdown",
   "id": "112c9582",
   "metadata": {},
   "source": [
    "We can now apply feature engineering to generate important features as defined by domain knowledge.\n",
    "\n",
    "In this case, we have three new features[CITATION]:\n",
    "1. Water-Cement Ratio.\n",
    "\n",
    "The ratio of water and cement in the mix.\n",
    "\n",
    "2. Aggregate-Cement Ratio.\n",
    "\n",
    "The ratio of the sum of coarse and fine aggregate and cement in the mix.\n",
    "\n",
    "3. Aggregate Proportion.\n",
    "\n",
    "The ratio of the sum of coarse and fine aggregate and the total weight/density of the mix.\n"
   ]
  },
  {
   "cell_type": "code",
   "execution_count": 149,
   "id": "c905ec76",
   "metadata": {
    "ExecuteTime": {
     "end_time": "2021-09-14T13:36:16.581728Z",
     "start_time": "2021-09-14T13:36:16.540278Z"
    }
   },
   "outputs": [
    {
     "data": {
      "text/html": [
       "<div>\n",
       "<style scoped>\n",
       "    .dataframe tbody tr th:only-of-type {\n",
       "        vertical-align: middle;\n",
       "    }\n",
       "\n",
       "    .dataframe tbody tr th {\n",
       "        vertical-align: top;\n",
       "    }\n",
       "\n",
       "    .dataframe thead th {\n",
       "        text-align: right;\n",
       "    }\n",
       "</style>\n",
       "<table border=\"1\" class=\"dataframe\">\n",
       "  <thead>\n",
       "    <tr style=\"text-align: right;\">\n",
       "      <th></th>\n",
       "      <th>cement</th>\n",
       "      <th>slag</th>\n",
       "      <th>flyash</th>\n",
       "      <th>water</th>\n",
       "      <th>superplasticizer</th>\n",
       "      <th>coarseaggregate</th>\n",
       "      <th>fineaggregate</th>\n",
       "      <th>age</th>\n",
       "      <th>wc_ratio</th>\n",
       "      <th>ac_ratio</th>\n",
       "      <th>agg_proportion</th>\n",
       "    </tr>\n",
       "  </thead>\n",
       "  <tbody>\n",
       "    <tr>\n",
       "      <th>0</th>\n",
       "      <td>540.0</td>\n",
       "      <td>0.0</td>\n",
       "      <td>0.0</td>\n",
       "      <td>162.0</td>\n",
       "      <td>2.5</td>\n",
       "      <td>1040.0</td>\n",
       "      <td>676.0</td>\n",
       "      <td>28</td>\n",
       "      <td>0.300000</td>\n",
       "      <td>3.177778</td>\n",
       "      <td>0.708944</td>\n",
       "    </tr>\n",
       "    <tr>\n",
       "      <th>1</th>\n",
       "      <td>540.0</td>\n",
       "      <td>0.0</td>\n",
       "      <td>0.0</td>\n",
       "      <td>162.0</td>\n",
       "      <td>2.5</td>\n",
       "      <td>1055.0</td>\n",
       "      <td>676.0</td>\n",
       "      <td>28</td>\n",
       "      <td>0.300000</td>\n",
       "      <td>3.205556</td>\n",
       "      <td>0.710737</td>\n",
       "    </tr>\n",
       "    <tr>\n",
       "      <th>2</th>\n",
       "      <td>332.5</td>\n",
       "      <td>142.5</td>\n",
       "      <td>0.0</td>\n",
       "      <td>228.0</td>\n",
       "      <td>0.0</td>\n",
       "      <td>932.0</td>\n",
       "      <td>594.0</td>\n",
       "      <td>270</td>\n",
       "      <td>0.685714</td>\n",
       "      <td>4.589474</td>\n",
       "      <td>0.684612</td>\n",
       "    </tr>\n",
       "    <tr>\n",
       "      <th>3</th>\n",
       "      <td>332.5</td>\n",
       "      <td>142.5</td>\n",
       "      <td>0.0</td>\n",
       "      <td>228.0</td>\n",
       "      <td>0.0</td>\n",
       "      <td>932.0</td>\n",
       "      <td>594.0</td>\n",
       "      <td>365</td>\n",
       "      <td>0.685714</td>\n",
       "      <td>4.589474</td>\n",
       "      <td>0.684612</td>\n",
       "    </tr>\n",
       "    <tr>\n",
       "      <th>4</th>\n",
       "      <td>198.6</td>\n",
       "      <td>132.4</td>\n",
       "      <td>0.0</td>\n",
       "      <td>192.0</td>\n",
       "      <td>0.0</td>\n",
       "      <td>978.4</td>\n",
       "      <td>825.5</td>\n",
       "      <td>360</td>\n",
       "      <td>0.966767</td>\n",
       "      <td>9.083082</td>\n",
       "      <td>0.775237</td>\n",
       "    </tr>\n",
       "  </tbody>\n",
       "</table>\n",
       "</div>"
      ],
      "text/plain": [
       "   cement   slag  flyash  water  superplasticizer  coarseaggregate  \\\n",
       "0   540.0    0.0     0.0  162.0               2.5           1040.0   \n",
       "1   540.0    0.0     0.0  162.0               2.5           1055.0   \n",
       "2   332.5  142.5     0.0  228.0               0.0            932.0   \n",
       "3   332.5  142.5     0.0  228.0               0.0            932.0   \n",
       "4   198.6  132.4     0.0  192.0               0.0            978.4   \n",
       "\n",
       "   fineaggregate  age  wc_ratio  ac_ratio  agg_proportion  \n",
       "0          676.0   28  0.300000  3.177778        0.708944  \n",
       "1          676.0   28  0.300000  3.205556        0.710737  \n",
       "2          594.0  270  0.685714  4.589474        0.684612  \n",
       "3          594.0  365  0.685714  4.589474        0.684612  \n",
       "4          825.5  360  0.966767  9.083082        0.775237  "
      ]
     },
     "metadata": {},
     "output_type": "display_data"
    }
   ],
   "source": [
    "X_3 = data.copy()\n",
    "X_3[\"total_density\"] = X_3[['cement', 'slag', 'flyash', 'water',\n",
    "                            'superplasticizer', 'coarseaggregate',\n",
    "                            'fineaggregate']].sum(axis=1)\n",
    "X_3['wc_ratio'] = X_3['water'] / X_3['cement']\n",
    "X_3['ac_ratio'] = ((X_3['coarseaggregate'] + X_3['fineaggregate']) / \n",
    "                   X_3['cement'])\n",
    "X_3['agg_proportion'] = ((X_3['coarseaggregate'] + X_3['fineaggregate']) /\n",
    "                         X_3['total_density'])\n",
    "X_3 = X_3.drop(['total_density', 'csMPa'], axis=1)\n",
    "feature_names = X_3.columns\n",
    "display(X_3.head())"
   ]
  },
  {
   "cell_type": "markdown",
   "id": "79a2b8c5",
   "metadata": {},
   "source": [
    "We add the new columns for water-cement ratio, aggregate ratio and aggregate proportion and apply it for the models."
   ]
  },
  {
   "cell_type": "code",
   "execution_count": 150,
   "id": "5514551a",
   "metadata": {
    "ExecuteTime": {
     "end_time": "2021-09-14T13:43:13.282892Z",
     "start_time": "2021-09-14T13:36:19.601436Z"
    }
   },
   "outputs": [
    {
     "data": {
      "text/html": [
       "<div>\n",
       "<style scoped>\n",
       "    .dataframe tbody tr th:only-of-type {\n",
       "        vertical-align: middle;\n",
       "    }\n",
       "\n",
       "    .dataframe tbody tr th {\n",
       "        vertical-align: top;\n",
       "    }\n",
       "\n",
       "    .dataframe thead th {\n",
       "        text-align: right;\n",
       "    }\n",
       "</style>\n",
       "<table border=\"1\" class=\"dataframe\">\n",
       "  <thead>\n",
       "    <tr style=\"text-align: right;\">\n",
       "      <th></th>\n",
       "      <th>Test Score</th>\n",
       "      <th>Best Parameter</th>\n",
       "      <th>Top Predictor</th>\n",
       "      <th>Time</th>\n",
       "    </tr>\n",
       "  </thead>\n",
       "  <tbody>\n",
       "    <tr>\n",
       "      <th>kNN</th>\n",
       "      <td>0.703075</td>\n",
       "      <td>{'knn__n_neighbors': 3}</td>\n",
       "      <td>None</td>\n",
       "      <td>23.498396</td>\n",
       "    </tr>\n",
       "    <tr>\n",
       "      <th>Linear Regression (L1)</th>\n",
       "      <td>0.603664</td>\n",
       "      <td>{'L1__alpha': 0.001}</td>\n",
       "      <td>age</td>\n",
       "      <td>51.826210</td>\n",
       "    </tr>\n",
       "    <tr>\n",
       "      <th>Linear Regression (L2)</th>\n",
       "      <td>0.602626</td>\n",
       "      <td>{'L2__alpha': 5}</td>\n",
       "      <td>age</td>\n",
       "      <td>9.262298</td>\n",
       "    </tr>\n",
       "    <tr>\n",
       "      <th>LinearSVR</th>\n",
       "      <td>0.589274</td>\n",
       "      <td>{'LinearSVR__C': 0.5}</td>\n",
       "      <td>age</td>\n",
       "      <td>136.105182</td>\n",
       "    </tr>\n",
       "    <tr>\n",
       "      <th>Random Forest</th>\n",
       "      <td>0.920545</td>\n",
       "      <td>{'max_features': 0.7}</td>\n",
       "      <td>age</td>\n",
       "      <td>141.408117</td>\n",
       "    </tr>\n",
       "    <tr>\n",
       "      <th>Gradient Boosting Method</th>\n",
       "      <td>0.913636</td>\n",
       "      <td>{'max_features': 0.5}</td>\n",
       "      <td>age</td>\n",
       "      <td>51.552865</td>\n",
       "    </tr>\n",
       "  </tbody>\n",
       "</table>\n",
       "</div>"
      ],
      "text/plain": [
       "                          Test Score           Best Parameter Top Predictor  \\\n",
       "kNN                         0.703075  {'knn__n_neighbors': 3}          None   \n",
       "Linear Regression (L1)      0.603664     {'L1__alpha': 0.001}           age   \n",
       "Linear Regression (L2)      0.602626         {'L2__alpha': 5}           age   \n",
       "LinearSVR                   0.589274    {'LinearSVR__C': 0.5}           age   \n",
       "Random Forest               0.920545    {'max_features': 0.7}           age   \n",
       "Gradient Boosting Method    0.913636    {'max_features': 0.5}           age   \n",
       "\n",
       "                                Time  \n",
       "kNN                        23.498396  \n",
       "Linear Regression (L1)     51.826210  \n",
       "Linear Regression (L2)      9.262298  \n",
       "LinearSVR                 136.105182  \n",
       "Random Forest             141.408117  \n",
       "Gradient Boosting Method   51.552865  "
      ]
     },
     "metadata": {},
     "output_type": "display_data"
    }
   ],
   "source": [
    "results_3 = pd.DataFrame([\n",
    "    reg_knn(X_3, y_1),\n",
    "    reg_linear(('L1', Lasso(max_iter=1e7)), X_3, y_1),\n",
    "    reg_linear(('L2', Ridge()), X_3, y_1),\n",
    "    reg_linear(('LinearSVR', LinearSVR(max_iter=1e6)), X_3, y_1),\n",
    "    reg_tree(RandomForestRegressor(), X_3, y_1),\n",
    "    reg_tree(GradientBoostingRegressor(), X_3, y_1),\n",
    "        ], columns=res_cols, index=idx)\n",
    "display(results_3)"
   ]
  },
  {
   "cell_type": "markdown",
   "id": "32a01aff",
   "metadata": {},
   "source": [
    "**Attempt 3.**\n",
    "\n",
    "Random Forest is the best model to use for our data. `age` is now the top predictor for all variables. This can be attributed to cement being present in the new variables which reduces its feature importance."
   ]
  },
  {
   "cell_type": "code",
   "execution_count": 157,
   "id": "08911e65",
   "metadata": {
    "ExecuteTime": {
     "end_time": "2021-09-14T13:54:42.493840Z",
     "start_time": "2021-09-14T13:52:17.063345Z"
    }
   },
   "outputs": [
    {
     "data": {
      "image/png": "[encoded data removed]",
      "text/plain": [
       "<Figure size 864x432 with 1 Axes>"
      ]
     },
     "metadata": {
      "needs_background": "light"
     },
     "output_type": "display_data"
    }
   ],
   "source": [
    "start_time = time.time()\n",
    "\n",
    "# hyperparameters\n",
    "features_tuning = [0.1, 0.2, 0.3, 0.4, 0.5, 0.7, 0.8, 0.9, 1.0]\n",
    "params = {'max_features': features_tuning}\n",
    "\n",
    "# cross-validation settings\n",
    "rkf = RepeatedKFold(n_splits=5, n_repeats=10)\n",
    "\n",
    "# gridsearch\n",
    "cv = GridSearchCV(estimator=RandomForestRegressor(), param_grid=params, cv=rkf,\n",
    "                  return_train_score=True, scoring='r2').fit(X_3, y_1)\n",
    "idx = cv.best_estimator_.feature_importances_.argsort()\n",
    "plt.rcParams['figure.figsize'] = (12, 6)\n",
    "fig, ax = plt.subplots()\n",
    "ax.barh(feature_names[idx], sorted(cv.best_estimator_.feature_importances_),\n",
    "        color='#ffdb15')\n",
    "ax.set_xlabel('Feature Weights')\n",
    "ax.spines['top'].set_visible(False)\n",
    "ax.spines['right'].set_visible(False)\n",
    "plt.show()"
   ]
  },
  {
   "cell_type": "markdown",
   "id": "f54da7db",
   "metadata": {},
   "source": [
    "We can see that age is the top predictor and the feature-engineered columns are the next top predictors. This confirms that the new feature engineered values have more weight in compressive strength than the previous features when the full dataset is included."
   ]
  },
  {
   "cell_type": "code",
   "execution_count": 158,
   "id": "7ec26371",
   "metadata": {
    "ExecuteTime": {
     "end_time": "2021-09-14T13:55:10.464402Z",
     "start_time": "2021-09-14T13:55:10.422284Z"
    },
    "scrolled": true
   },
   "outputs": [
    {
     "data": {
      "text/html": [
       "<div>\n",
       "<style scoped>\n",
       "    .dataframe tbody tr th:only-of-type {\n",
       "        vertical-align: middle;\n",
       "    }\n",
       "\n",
       "    .dataframe tbody tr th {\n",
       "        vertical-align: top;\n",
       "    }\n",
       "\n",
       "    .dataframe thead th {\n",
       "        text-align: right;\n",
       "    }\n",
       "</style>\n",
       "<table border=\"1\" class=\"dataframe\">\n",
       "  <thead>\n",
       "    <tr style=\"text-align: right;\">\n",
       "      <th></th>\n",
       "      <th>cement</th>\n",
       "      <th>slag</th>\n",
       "      <th>flyash</th>\n",
       "      <th>water</th>\n",
       "      <th>superplasticizer</th>\n",
       "      <th>coarseaggregate</th>\n",
       "      <th>fineaggregate</th>\n",
       "      <th>age</th>\n",
       "      <th>wc_ratio</th>\n",
       "      <th>ac_ratio</th>\n",
       "      <th>agg_proportion</th>\n",
       "    </tr>\n",
       "  </thead>\n",
       "  <tbody>\n",
       "    <tr>\n",
       "      <th>0</th>\n",
       "      <td>540.0</td>\n",
       "      <td>0.0</td>\n",
       "      <td>0.0</td>\n",
       "      <td>162.0</td>\n",
       "      <td>2.5</td>\n",
       "      <td>1040.0</td>\n",
       "      <td>676.0</td>\n",
       "      <td>28</td>\n",
       "      <td>0.300000</td>\n",
       "      <td>3.177778</td>\n",
       "      <td>0.708944</td>\n",
       "    </tr>\n",
       "    <tr>\n",
       "      <th>1</th>\n",
       "      <td>540.0</td>\n",
       "      <td>0.0</td>\n",
       "      <td>0.0</td>\n",
       "      <td>162.0</td>\n",
       "      <td>2.5</td>\n",
       "      <td>1055.0</td>\n",
       "      <td>676.0</td>\n",
       "      <td>28</td>\n",
       "      <td>0.300000</td>\n",
       "      <td>3.205556</td>\n",
       "      <td>0.710737</td>\n",
       "    </tr>\n",
       "    <tr>\n",
       "      <th>2</th>\n",
       "      <td>332.5</td>\n",
       "      <td>142.5</td>\n",
       "      <td>0.0</td>\n",
       "      <td>228.0</td>\n",
       "      <td>0.0</td>\n",
       "      <td>932.0</td>\n",
       "      <td>594.0</td>\n",
       "      <td>270</td>\n",
       "      <td>0.685714</td>\n",
       "      <td>4.589474</td>\n",
       "      <td>0.684612</td>\n",
       "    </tr>\n",
       "    <tr>\n",
       "      <th>3</th>\n",
       "      <td>332.5</td>\n",
       "      <td>142.5</td>\n",
       "      <td>0.0</td>\n",
       "      <td>228.0</td>\n",
       "      <td>0.0</td>\n",
       "      <td>932.0</td>\n",
       "      <td>594.0</td>\n",
       "      <td>365</td>\n",
       "      <td>0.685714</td>\n",
       "      <td>4.589474</td>\n",
       "      <td>0.684612</td>\n",
       "    </tr>\n",
       "    <tr>\n",
       "      <th>4</th>\n",
       "      <td>198.6</td>\n",
       "      <td>132.4</td>\n",
       "      <td>0.0</td>\n",
       "      <td>192.0</td>\n",
       "      <td>0.0</td>\n",
       "      <td>978.4</td>\n",
       "      <td>825.5</td>\n",
       "      <td>360</td>\n",
       "      <td>0.966767</td>\n",
       "      <td>9.083082</td>\n",
       "      <td>0.775237</td>\n",
       "    </tr>\n",
       "  </tbody>\n",
       "</table>\n",
       "</div>"
      ],
      "text/plain": [
       "   cement   slag  flyash  water  superplasticizer  coarseaggregate  \\\n",
       "0   540.0    0.0     0.0  162.0               2.5           1040.0   \n",
       "1   540.0    0.0     0.0  162.0               2.5           1055.0   \n",
       "2   332.5  142.5     0.0  228.0               0.0            932.0   \n",
       "3   332.5  142.5     0.0  228.0               0.0            932.0   \n",
       "4   198.6  132.4     0.0  192.0               0.0            978.4   \n",
       "\n",
       "   fineaggregate  age  wc_ratio  ac_ratio  agg_proportion  \n",
       "0          676.0   28  0.300000  3.177778        0.708944  \n",
       "1          676.0   28  0.300000  3.205556        0.710737  \n",
       "2          594.0  270  0.685714  4.589474        0.684612  \n",
       "3          594.0  365  0.685714  4.589474        0.684612  \n",
       "4          825.5  360  0.966767  9.083082        0.775237  "
      ]
     },
     "metadata": {},
     "output_type": "display_data"
    }
   ],
   "source": [
    "X_4 = X_2.copy()\n",
    "X_4[\"total_density\"] = X_4[['cement', 'slag', 'flyash', 'water',\n",
    "                            'superplasticizer', 'coarseaggregate',\n",
    "                            'fineaggregate']].sum(axis=1)\n",
    "X_4['wc_ratio'] = X_4['water'] / X_4['cement']\n",
    "X_4['ac_ratio'] = ((X_4['coarseaggregate'] + X_4['fineaggregate']) / \n",
    "                   X_4['cement'])\n",
    "X_4['agg_proportion'] = ((X_4['coarseaggregate'] + X_4['fineaggregate']) /\n",
    "                         X_4['total_density'])\n",
    "X_4 = X_4.drop('total_density', axis=1)\n",
    "feature_names = X_4.columns\n",
    "display(X_4.head())"
   ]
  },
  {
   "cell_type": "markdown",
   "id": "b4208eeb",
   "metadata": {},
   "source": [
    "Now we try this again but only using fully cured (age > 28) concrete. Again, we add the engineered features to the data."
   ]
  },
  {
   "cell_type": "code",
   "execution_count": 162,
   "id": "a838e75c",
   "metadata": {
    "ExecuteTime": {
     "end_time": "2021-09-14T14:17:19.870096Z",
     "start_time": "2021-09-14T14:11:52.021326Z"
    }
   },
   "outputs": [
    {
     "data": {
      "text/html": [
       "<div>\n",
       "<style scoped>\n",
       "    .dataframe tbody tr th:only-of-type {\n",
       "        vertical-align: middle;\n",
       "    }\n",
       "\n",
       "    .dataframe tbody tr th {\n",
       "        vertical-align: top;\n",
       "    }\n",
       "\n",
       "    .dataframe thead th {\n",
       "        text-align: right;\n",
       "    }\n",
       "</style>\n",
       "<table border=\"1\" class=\"dataframe\">\n",
       "  <thead>\n",
       "    <tr style=\"text-align: right;\">\n",
       "      <th></th>\n",
       "      <th>Test Score</th>\n",
       "      <th>Best Parameter</th>\n",
       "      <th>Top Predictor</th>\n",
       "      <th>Time</th>\n",
       "    </tr>\n",
       "  </thead>\n",
       "  <tbody>\n",
       "    <tr>\n",
       "      <th>kNN</th>\n",
       "      <td>0.845928</td>\n",
       "      <td>{'knn__n_neighbors': 2}</td>\n",
       "      <td>None</td>\n",
       "      <td>18.700732</td>\n",
       "    </tr>\n",
       "    <tr>\n",
       "      <th>Linear Regression (L1)</th>\n",
       "      <td>0.726424</td>\n",
       "      <td>{'L1__alpha': 0.001}</td>\n",
       "      <td>fineaggregate</td>\n",
       "      <td>28.959966</td>\n",
       "    </tr>\n",
       "    <tr>\n",
       "      <th>Linear Regression (L2)</th>\n",
       "      <td>0.727696</td>\n",
       "      <td>{'L2__alpha': 1.5}</td>\n",
       "      <td>fineaggregate</td>\n",
       "      <td>9.333157</td>\n",
       "    </tr>\n",
       "    <tr>\n",
       "      <th>LinearSVR</th>\n",
       "      <td>0.710463</td>\n",
       "      <td>{'LinearSVR__C': 15}</td>\n",
       "      <td>slag</td>\n",
       "      <td>114.501502</td>\n",
       "    </tr>\n",
       "    <tr>\n",
       "      <th>Random Forest</th>\n",
       "      <td>0.904860</td>\n",
       "      <td>{'max_features': 0.8}</td>\n",
       "      <td>wc_ratio</td>\n",
       "      <td>112.594338</td>\n",
       "    </tr>\n",
       "    <tr>\n",
       "      <th>Gradient Boosting Method</th>\n",
       "      <td>0.900885</td>\n",
       "      <td>{'max_features': 0.5}</td>\n",
       "      <td>wc_ratio</td>\n",
       "      <td>43.732938</td>\n",
       "    </tr>\n",
       "  </tbody>\n",
       "</table>\n",
       "</div>"
      ],
      "text/plain": [
       "                          Test Score           Best Parameter  Top Predictor  \\\n",
       "kNN                         0.845928  {'knn__n_neighbors': 2}           None   \n",
       "Linear Regression (L1)      0.726424     {'L1__alpha': 0.001}  fineaggregate   \n",
       "Linear Regression (L2)      0.727696       {'L2__alpha': 1.5}  fineaggregate   \n",
       "LinearSVR                   0.710463     {'LinearSVR__C': 15}           slag   \n",
       "Random Forest               0.904860    {'max_features': 0.8}       wc_ratio   \n",
       "Gradient Boosting Method    0.900885    {'max_features': 0.5}       wc_ratio   \n",
       "\n",
       "                                Time  \n",
       "kNN                        18.700732  \n",
       "Linear Regression (L1)     28.959966  \n",
       "Linear Regression (L2)      9.333157  \n",
       "LinearSVR                 114.501502  \n",
       "Random Forest             112.594338  \n",
       "Gradient Boosting Method   43.732938  "
      ]
     },
     "metadata": {},
     "output_type": "display_data"
    }
   ],
   "source": [
    "idx = ['kNN', 'Linear Regression (L1)', 'Linear Regression (L2)',\n",
    "       'LinearSVR', 'Random Forest', 'Gradient Boosting Method']\n",
    "results_4 = pd.DataFrame([\n",
    "    reg_knn(X_4, y_2),\n",
    "    reg_linear(('L1', Lasso(max_iter=1e6, tol=0.01)), X_4, y_2),\n",
    "    reg_linear(('L2', Ridge()), X_4, y_2),\n",
    "    reg_linear(('LinearSVR', LinearSVR(max_iter=1e6)), X_4, y_2),\n",
    "    reg_tree(RandomForestRegressor(), X_4, y_2),\n",
    "    reg_tree(GradientBoostingRegressor(), X_4, y_2),\n",
    "        ], columns=res_cols, index=idx)\n",
    "display(results_4)"
   ]
  },
  {
   "cell_type": "markdown",
   "id": "d2aa6cad",
   "metadata": {},
   "source": [
    "**Attempt 4.**\n",
    "\n",
    "We see that the best model to use is still Random Forest with a score better than the one without engineered features. However, we see now that water-cement ratio is the top predictor rather than age."
   ]
  },
  {
   "cell_type": "code",
   "execution_count": 163,
   "id": "1cc33296",
   "metadata": {
    "ExecuteTime": {
     "end_time": "2021-09-14T14:21:44.011157Z",
     "start_time": "2021-09-14T14:19:47.551349Z"
    }
   },
   "outputs": [
    {
     "data": {
      "image/png": "[encoded data removed]",
      "text/plain": [
       "<Figure size 864x432 with 1 Axes>"
      ]
     },
     "metadata": {
      "needs_background": "light"
     },
     "output_type": "display_data"
    }
   ],
   "source": [
    "start_time = time.time()\n",
    "\n",
    "# hyperparameters\n",
    "features_tuning = [0.1, 0.2, 0.3, 0.4, 0.5, 0.7, 0.8, 0.9, 1.0]\n",
    "params = {'max_features': features_tuning}\n",
    "\n",
    "# cross-validation settings\n",
    "rkf = RepeatedKFold(n_splits=5, n_repeats=10)\n",
    "\n",
    "# gridsearch\n",
    "cv = GridSearchCV(estimator=RandomForestRegressor(), param_grid=params, cv=rkf,\n",
    "                    return_train_score=True, scoring='r2').fit(X_4, y_2)\n",
    "idx = cv.best_estimator_.feature_importances_.argsort()\n",
    "\n",
    "plt.rcParams['figure.figsize'] = (12, 6)\n",
    "fig, ax = plt.subplots()\n",
    "ax.barh(feature_names[idx], sorted(cv.best_estimator_.feature_importances_),\n",
    "        color='#ffdb15')\n",
    "ax.set_xlabel('Feature Weights')\n",
    "ax.spines['top'].set_visible(False)\n",
    "ax.spines['right'].set_visible(False)\n",
    "plt.show()"
   ]
  },
  {
   "cell_type": "markdown",
   "id": "73dec13e",
   "metadata": {},
   "source": [
    "In this case, we can clearly see how much `wc-ratio` dominates in terms of weight compared to the other features."
   ]
  },
  {
   "cell_type": "markdown",
   "id": "3ea92066",
   "metadata": {},
   "source": [
    "## Conclusions"
   ]
  },
  {
   "cell_type": "markdown",
   "id": "851e0ef2",
   "metadata": {},
   "source": [
    "1. The use of engineered features is necessary and improves our models. These are also determined through domain expertise which means the value is empirical and has been determined through practice.\n",
    "\n",
    "\n",
    "2. If the use case calls for determining the fastest time to reach a certain compressive strength along with mix proportion, we can use  Random Forest for the whole dataset including `age` and add teh engineered features as well. This is  still appropriate for the main problem statement as curing time is still an important factor in the real world and cannot simply be dropped.\n",
    "\n",
    "\n",
    "3. If use case only calls for determining the propoer mixes, regardless of age, then the Random Forest model using only age > 28 should be used with engineered features. In construction, 28 days curing period is still the industry standard set. This means, that time is readily alloted for concrete to cure thus using the age > 28 dataset will be more appropriate if that standard is in place. This gives the top predictor as water-cement ratio. In the industry, water-cement ratio is known to influence these factors of concrete:\n",
    "        Strength\n",
    "        Workability\n",
    "        Durability\n",
    "        Hydration\n",
    "        Binding\n",
    "        Compaction\n",
    "        Mixing\n",
    "        Transportation\n",
    "        Corrosion\n",
    "        Porosity\n",
    "        Permeability\n",
    "        Carbonation\n",
    "        Freeze-Thaw Effect\n",
    "\n",
    "\n",
    "4. The use of sklearn classes such as `Pipeline`, `RepeatedKFolds` and `GridSearchCV` make hyperparameter tuning easier and more organized. The `Pipeline`  class specifically has been extremely useful and allows for application of scaling after splitting which prevents bleed in of information into the test set for each split."
   ]
  },
  {
   "cell_type": "markdown",
   "id": "ef63c2ac",
   "metadata": {},
   "source": [
    "### Recommendations"
   ]
  },
  {
   "cell_type": "markdown",
   "id": "f69f0c2f",
   "metadata": {},
   "source": [
    "1. The use of more engineered features is advisable given that they are based on recommnedations from experts.\n",
    "\n",
    "2. It is recommended that other parameters for Random Forest and Gradient Boosting Method be applied.\n",
    "\n",
    "3. It is recommended that Support Vector Machines also be used as they handle non linear data as well.\n",
    "\n",
    "4. Using other types of scaling can also be explored such as `MinxMax`.\n",
    "\n",
    "5. Multicollinearity checks with the engineered features can be applied as well."
   ]
  },
  {
   "cell_type": "markdown",
   "id": "3f34604a",
   "metadata": {},
   "source": [
    "## References"
   ]
  },
  {
   "cell_type": "markdown",
   "id": "e1fe3406",
   "metadata": {},
   "source": [
    "[1] PRASAD. (n.d.). _Key Factors Affecting Strength of Concrete._ Retrieved September 2021, from Structural Guide: https://www.structuralguide.com/factors-affecting-strength-of-concrete/\n",
    "\n",
    "[2] The Constructor. (n.d.). _Concrete Compressive Strength Variation with Time._ Retrieved September 2021, from The Concstructor: https://theconstructor.org/concrete/concrete-compressive-strength-variation-with-time/5933/\n",
    "\n",
    "[3] Yeh, I.-C. (1998, December). _Modeling of Strength of High-Performance Concrete Using Artificial Neural Networks._ Cement and Concrete Research, 28(12), 1797-1808."
   ]
  },
  {
   "cell_type": "code",
   "execution_count": null,
   "id": "6629f392",
   "metadata": {},
   "outputs": [],
   "source": []
  }
 ],
 "metadata": {
  "kernelspec": {
   "display_name": "Python 3",
   "language": "python",
   "name": "python3"
  },
  "language_info": {
   "codemirror_mode": {
    "name": "ipython",
    "version": 3
   },
   "file_extension": ".py",
   "mimetype": "text/x-python",
   "name": "python",
   "nbconvert_exporter": "python",
   "pygments_lexer": "ipython3",
   "version": "3.8.8"
  },
  "latex_envs": {
   "LaTeX_envs_menu_present": true,
   "autoclose": true,
   "autocomplete": true,
   "bibliofile": "biblio.bib",
   "cite_by": "apalike",
   "current_citInitial": 1,
   "eqLabelWithNumbers": true,
   "eqNumInitial": 1,
   "hotkeys": {
    "equation": "Ctrl-E",
    "itemize": "Ctrl-I"
   },
   "labels_anchors": false,
   "latex_user_defs": false,
   "report_style_numbering": false,
   "user_envs_cfg": false
  }
 },
 "nbformat": 4,
 "nbformat_minor": 5
}
